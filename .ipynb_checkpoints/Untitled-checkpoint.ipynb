{
 "cells": [
  {
   "cell_type": "code",
   "execution_count": null,
   "metadata": {},
   "outputs": [],
   "source": [
    "# Dependencies\n",
    "import pandas as pd"
   ]
  },
  {
   "cell_type": "code",
   "execution_count": null,
   "metadata": {},
   "outputs": [],
   "source": [
    "#absolute path to the csv file, stating exactly where the file is on the computer\n",
    "budget_datapath = \"C:/Users/Claudia/Documents/USC-Bootcamp/Curriculum_Repo/usc-la-data-pt-03-2020-u-c/unit_3_python/homework/PyBank/Resources/budget_data.csv\"\n",
    "\n",
    "#relative file path, it is always relative to where the notebook is at\n",
    "#budget_datapath = \"budget_data.csv\""
   ]
  },
  {
   "cell_type": "code",
   "execution_count": null,
   "metadata": {},
   "outputs": [],
   "source": [
    "#import the. csv file as a datafram\n",
    "budgetdata_df = pd.read_csv(budget_datapath, encoding=\"utf-8\")\n",
    "budgetdata_df\n",
    "\n",
    "#Another way: to perform this\n",
    "#length includes 0-85\n",
    "#print(\"Total months:\" ,len(budgetdata_df))\n",
    "\n",
    "num_months = len(budgetdata_df)"
   ]
  },
  {
   "cell_type": "code",
   "execution_count": null,
   "metadata": {},
   "outputs": [],
   "source": [
    "#using f-string to tell it to evaluate python code within the string\n",
    "#the f tells the python interpreter to look for code when it reaches {}\n",
    "print(f\"Total months: {num_months}\")\n"
   ]
  },
  {
   "cell_type": "code",
   "execution_count": null,
   "metadata": {},
   "outputs": [],
   "source": [
    "profit_loss_sum = budgetdata_df.sum(axis=0)\n",
    "print(profit_loss_sum['Profit/Losses'])"
   ]
  },
  {
   "cell_type": "code",
   "execution_count": null,
   "metadata": {},
   "outputs": [],
   "source": [
    "profit_loss_avg_calc = \n",
    "#profit_loss_avg = budgetdata_df.mean(axis=0)\n",
    "#print(profit_loss_avg['Profit/Losses'])"
   ]
  }
 ],
 "metadata": {
  "kernelspec": {
   "display_name": "Python 3",
   "language": "python",
   "name": "python3"
  },
  "language_info": {
   "codemirror_mode": {
    "name": "ipython",
    "version": 3
   },
   "file_extension": ".py",
   "mimetype": "text/x-python",
   "name": "python",
   "nbconvert_exporter": "python",
   "pygments_lexer": "ipython3",
   "version": "3.7.4"
  }
 },
 "nbformat": 4,
 "nbformat_minor": 4
}
